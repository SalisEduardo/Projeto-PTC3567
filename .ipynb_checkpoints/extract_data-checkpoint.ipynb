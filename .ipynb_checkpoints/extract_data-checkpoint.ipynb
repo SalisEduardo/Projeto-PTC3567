{
 "cells": [
  {
   "cell_type": "markdown",
   "metadata": {},
   "source": [
    "# Packages"
   ]
  },
  {
   "cell_type": "code",
   "execution_count": 3,
   "metadata": {
    "vscode": {
     "languageId": "r"
    }
   },
   "outputs": [],
   "source": [
    "library(quantmod)\n",
    "library(dplyr)\n",
    "library(tidyverse)\n",
    "library(xts)\n",
    "library(tidyquant)\n",
    "library(Quandl)\n"
   ]
  },
  {
   "cell_type": "markdown",
   "metadata": {},
   "source": [
    "# FRED data"
   ]
  },
  {
   "cell_type": "code",
   "execution_count": 4,
   "metadata": {
    "vscode": {
     "languageId": "r"
    }
   },
   "outputs": [],
   "source": [
    "# Target\n",
    "\n",
    "USREC <- quantmod::getSymbols(\"USREC\",src='FRED',auto.assign = FALSE) #NBER based recession Indicator\n",
    "\n",
    "# Macro\n",
    "GDPC1 <- quantmod::getSymbols(\"GDPC1\",src='FRED',auto.assign = FALSE) # real gross domestic product\n",
    "PIECTR <- quantmod::getSymbols(\"PIECTR\",src='FRED',auto.assign = FALSE) # Real personal income ex current transfer\n",
    "PRS85006013 <- quantmod::getSymbols(\"PRS85006013\",src='FRED',auto.assign = FALSE) # Nonfarm Business sectoremployment index\n",
    "IPB50001SQ <- quantmod::getSymbols(\"IPB50001SQ\",src='FRED',auto.assign = FALSE) #Industrial Production Index\n",
    "CQRMTSPL <- quantmod::getSymbols(\"CQRMTSPL\",src='FRED',auto.assign = FALSE) # Real manufecturing and trand ind. sales\n",
    "\n",
    "# Interest Rates spreads\n",
    "\n",
    "## Term Spreads\n",
    "T10Y3M <- quantmod::getSymbols(\"T10Y3M\",src='FRED',auto.assign = FALSE) # (T10 -T3M)\n",
    "T10Y2Y <- quantmod::getSymbols(\"T10Y2Y\",src='FRED',auto.assign = FALSE) # (T10 -T2Y)\n",
    "\n",
    "## Corporate spreads\n",
    "HIGHYIELD_SPREAD <- quantmod::getSymbols(\"BAMLH0A0HYM2\",src='FRED',auto.assign = FALSE) # High Yield Spread\n",
    "BAA10Y <- quantmod::getSymbols(\"BAA10Y\",src='FRED',auto.assign = FALSE) # Baa - T10Y\n",
    "AAAFF <- quantmod::getSymbols(\"AAAFF\",src='FRED',auto.assign = FALSE) # Aaa - FF\n",
    "\n",
    "\n",
    "## Inflation spreads\n",
    "T10YIE <- quantmod::getSymbols(\"T10YIE\",src='FRED',auto.assign = FALSE) # 10-Year Breakeven Inflation Rate\n",
    "T5YIE <- quantmod::getSymbols(\"T5YIE\",src='FRED',auto.assign = FALSE) # 5-Year Breakeven Inflation Rate\n",
    "\n",
    "# Volatility Index\n",
    "\n",
    "VIXCLS <- quantmod::getSymbols(\"VIXCLS\",src='FRED',auto.assign = FALSE) # CBOE Volatility Index\n",
    "GVZCLS <- quantmod::getSymbols(\"GVZCLS\",src='FRED',auto.assign = FALSE) # CBOE Gold ETF Volatility Index\n",
    "OVXCLS<- quantmod::getSymbols(\"OVXCLS\",src='FRED',auto.assign = FALSE) # CBOE Crude Oil ETF Volatility Index\n",
    "\n",
    "# Monetary aggregated\n",
    "\n",
    "# PMIs\n",
    "\n",
    "\n",
    "\n"
   ]
  },
  {
   "cell_type": "code",
   "execution_count": 24,
   "metadata": {
    "vscode": {
     "languageId": "r"
    }
   },
   "outputs": [
    {
     "data": {
      "text/plain": [
       "           OVXCLS\n",
       "2007-05-10  27.09\n",
       "2007-05-11  26.41\n",
       "2007-05-14  27.23\n",
       "2007-05-15  27.89\n",
       "2007-05-16  27.07\n",
       "2007-05-17  24.86\n",
       "2007-05-18  24.71\n",
       "2007-05-21  24.67\n",
       "2007-05-22  26.03\n",
       "2007-05-23  26.35\n",
       "       ...       \n",
       "2023-08-16  28.54\n",
       "2023-08-17  29.30\n",
       "2023-08-18  28.43\n",
       "2023-08-21  28.90\n",
       "2023-08-22  28.56\n",
       "2023-08-23  28.47\n",
       "2023-08-24  28.88\n",
       "2023-08-25  28.81\n",
       "2023-08-28  28.66\n",
       "2023-08-29  27.63"
      ]
     },
     "metadata": {},
     "output_type": "display_data"
    }
   ],
   "source": [
    "OVXCLS<- quantmod::getSymbols(\"OVXCLS\",src='FRED',auto.assign = FALSE) # CBOE Crude Oil ETF Volatility Index\n",
    "OVXCLS"
   ]
  },
  {
   "cell_type": "code",
   "execution_count": null,
   "metadata": {
    "vscode": {
     "languageId": "r"
    }
   },
   "outputs": [],
   "source": []
  }
 ],
 "metadata": {
  "kernelspec": {
   "display_name": "R",
   "language": "R",
   "name": "ir"
  },
  "language_info": {
   "codemirror_mode": "r",
   "file_extension": ".r",
   "mimetype": "text/x-r-source",
   "name": "R",
   "pygments_lexer": "r",
   "version": "4.3.1"
  },
  "orig_nbformat": 4
 },
 "nbformat": 4,
 "nbformat_minor": 2
}
