{
 "cells": [
  {
   "cell_type": "code",
   "execution_count": 2,
   "id": "1bed8ab6-9d2c-4e4d-9b91-d3b7d573da5a",
   "metadata": {},
   "outputs": [],
   "source": [
    "# pip install fredapi\n",
    "import fredapi"
   ]
  },
  {
   "cell_type": "code",
   "execution_count": 3,
   "id": "d0e695ad-85c9-4357-a61d-3a686c2f2719",
   "metadata": {},
   "outputs": [],
   "source": [
    "APIKEY = \"3350621adf83e98b7ae0cf60ee5098a1\""
   ]
  },
  {
   "cell_type": "code",
   "execution_count": 5,
   "id": "382036a0-5256-4b31-9004-800e13b9d3e2",
   "metadata": {},
   "outputs": [],
   "source": [
    "from fredapi import Fred\n",
    "fred = Fred(api_key=APIKEY)\n",
    "data = fred.get_series('SP500')\n"
   ]
  },
  {
   "cell_type": "code",
   "execution_count": 6,
   "id": "fa17a995-5520-425b-9d31-2d001e270f84",
   "metadata": {},
   "outputs": [
    {
     "data": {
      "text/plain": [
       "2013-09-20    1709.91\n",
       "2013-09-23    1701.84\n",
       "2013-09-24    1697.42\n",
       "2013-09-25    1692.77\n",
       "2013-09-26    1698.67\n",
       "               ...   \n",
       "2023-09-13    4467.44\n",
       "2023-09-14    4505.10\n",
       "2023-09-15    4450.32\n",
       "2023-09-18    4453.53\n",
       "2023-09-19    4443.95\n",
       "Length: 2608, dtype: float64"
      ]
     },
     "execution_count": 6,
     "metadata": {},
     "output_type": "execute_result"
    }
   ],
   "source": [
    "series = [[\"USREC\", \"GDPC1\", \"PIECTR\", \"PRS85006013\", \"IPB50001SQ\", \"CQRMTSPL\", \"T10Y3M\", \"T10Y2Y\", \"BAMLH0A0HYM2\", \"BAA10Y\", \"AAAFF\", \"T10YIE\", \"T5YIE\", \"VIXCLS\", \"GVZCLS\",\"OVXCLS\"]]"
   ]
  },
  {
   "cell_type": "code",
   "execution_count": null,
   "id": "ae4a9528-c178-49bc-a066-5349496ca582",
   "metadata": {},
   "outputs": [],
   "source": []
  }
 ],
 "metadata": {
  "kernelspec": {
   "display_name": "Python 3 (ipykernel)",
   "language": "python",
   "name": "python3"
  },
  "language_info": {
   "codemirror_mode": {
    "name": "ipython",
    "version": 3
   },
   "file_extension": ".py",
   "mimetype": "text/x-python",
   "name": "python",
   "nbconvert_exporter": "python",
   "pygments_lexer": "ipython3",
   "version": "3.9.7"
  }
 },
 "nbformat": 4,
 "nbformat_minor": 5
}
